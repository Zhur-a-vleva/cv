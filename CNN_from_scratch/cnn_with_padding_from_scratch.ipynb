{
  "nbformat": 4,
  "nbformat_minor": 0,
  "metadata": {
    "colab": {
      "provenance": []
    },
    "kernelspec": {
      "name": "python3",
      "display_name": "Python 3"
    },
    "language_info": {
      "name": "python"
    }
  },
  "cells": [
    {
      "cell_type": "markdown",
      "source": [
        "# Part 1"
      ],
      "metadata": {
        "id": "Otr14emA4hiu"
      }
    },
    {
      "cell_type": "code",
      "source": [
        "import numpy as np\n",
        "\n",
        "class Convolution:\n",
        "    def __init__(self, input_dim, conv_dim, W=None):\n",
        "        self.input_dim = input_dim\n",
        "        self.conv_dim = conv_dim\n",
        "        self.W = np.random.uniform(0.4, 0.6, conv_dim) if W is None else W\n",
        "        self.input_values = None\n",
        "        self.output_values = None\n",
        "        self.W_pd = None\n",
        "\n",
        "    def convolve(self, T, W, add_padding=False):\n",
        "        T = np.expand_dims(T, axis=0) if T.ndim == 2 else T\n",
        "        W = np.expand_dims(W, axis=0) if W.ndim == 2 else W\n",
        "        output_shape = (1, (T.shape[1] + W.shape[1] - 1), (T.shape[2] + W.shape[2] - 1)) if add_padding else (1, (T.shape[1] - W.shape[1] + 1), (T.shape[2] - W.shape[2] + 1))\n",
        "        T = np.pad(T, pad_width=[(0, 0), (W.shape[1] - 1, W.shape[1] - 1), (W.shape[2] - 1, W.shape[2] - 1)]) if add_padding else T\n",
        "\n",
        "        convolution = np.zeros(output_shape)\n",
        "        for row in range(output_shape[1]):\n",
        "            for col in range(output_shape[2]):\n",
        "                convolution[0, row, col] = np.sum(T[:, row: row + W.shape[1], col: col + W.shape[2]] * W)\n",
        "        return convolution\n",
        "\n",
        "    def forward(self, input, labels=None):\n",
        "        self.input_values = self.change_dims(input, self.input_dim)\n",
        "        self.output_values = self.convolve(self.input_values, self.W, add_padding=True)\n",
        "        return self.change_dims(self.output_values, self.output_dim)\n",
        "\n",
        "    def backward(self, input_pd):\n",
        "        self.W_pd = np.concatenate([self.convolve(self.input_values[i], self.change_dims(input_pd, self.input_dim), add_padding=False) for i in range(self.n_input[0])], axis=0)\n",
        "        return self.change_dims(np.concatenate([self.convolve(self.change_dims(input_pd, self.input_dim), self.W[i, ::-1, ::-1], add_padding=True) for i in range(self.n_input[0])], axis=0), self.output_dim)\n",
        "\n",
        "    def optimize_weights(self, gd):\n",
        "        self.W = gd.optimize([self.W], [self.W_pd])[0]\n",
        "\n",
        "    def change_dims(self, X, dim):\n",
        "        pass"
      ],
      "metadata": {
        "id": "MH_uxINE4X58"
      },
      "execution_count": 5,
      "outputs": []
    },
    {
      "cell_type": "markdown",
      "source": [
        "# Part 2"
      ],
      "metadata": {
        "id": "n_56PaVi4a-M"
      }
    },
    {
      "cell_type": "code",
      "source": [
        "def get_padding_and_filter_size(input_size, output_size):\n",
        "    padding = (input_size - output_size) // 2\n",
        "    return padding, input_size - 2 * padding"
      ],
      "metadata": {
        "id": "ETAYfiaT4ZfL"
      },
      "execution_count": 6,
      "outputs": []
    },
    {
      "cell_type": "code",
      "source": [
        "input_size = 32\n",
        "output_size = 28\n",
        "\n",
        "padding, filter_size = get_padding_and_filter_size(input_size, output_size)\n",
        "print(f\"Padding: {padding}, filter size: {filter_size}\")"
      ],
      "metadata": {
        "colab": {
          "base_uri": "https://localhost:8080/"
        },
        "id": "3e9LtSBx4exc",
        "outputId": "6d1768b0-fc62-49e2-997c-ecac83a73713"
      },
      "execution_count": 7,
      "outputs": [
        {
          "output_type": "stream",
          "name": "stdout",
          "text": [
            "Padding: 2, filter size: 28\n"
          ]
        }
      ]
    }
  ]
}