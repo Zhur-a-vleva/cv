{
  "nbformat": 4,
  "nbformat_minor": 0,
  "metadata": {
    "colab": {
      "provenance": [],
      "gpuType": "T4"
    },
    "kernelspec": {
      "name": "python3",
      "display_name": "Python 3"
    },
    "language_info": {
      "name": "python"
    },
    "accelerator": "GPU"
  },
  "cells": [
    {
      "cell_type": "markdown",
      "source": [
        "Paramteric approach for image classificaiton, with f(x,W) = W x on the CIFAR10 dataset,\n",
        "where W is found by brute force"
      ],
      "metadata": {
        "id": "OtvPYnl0qgpE"
      }
    },
    {
      "cell_type": "code",
      "execution_count": null,
      "metadata": {
        "id": "lfPhFeQAQYBK"
      },
      "outputs": [],
      "source": [
        "import pandas as pd\n",
        "import cupy as cp\n",
        "from matplotlib import pyplot  as plt\n",
        "from keras.datasets import cifar10"
      ]
    },
    {
      "cell_type": "code",
      "source": [
        "# define functions for easier computations\n",
        "\n",
        "def softmax(g):\n",
        "    y = cp.exp(g)\n",
        "    return y / cp.sum(y)\n",
        "\n",
        "def loss(decision_label, true_label):\n",
        "    return -cp.dot(true_label, cp.log(decision_label))\n",
        "\n",
        "def label_vec_func(labels):\n",
        "    labels_matrix = cp.zeros([len(labels), 10])\n",
        "    labels_matrix[cp.arange(len(labels)), labels] = 1\n",
        "    return labels_matrix\n",
        "\n",
        "def funk(x, W):\n",
        "    x = cp.reshape(x, (1024, 50000))\n",
        "    f = cp.matmul(W, x)\n",
        "    f /= cp.max(f, axis=0)\n",
        "    return f"
      ],
      "metadata": {
        "id": "ZwD7BJTeWzAQ"
      },
      "execution_count": null,
      "outputs": []
    },
    {
      "cell_type": "code",
      "source": [
        "# load the data from keras dataset\n",
        "(X_train, y_train), (X_test, y_test) = cifar10.load_data()\n",
        "\n",
        "# specify the labels for human understanding\n",
        "labels = ['airplane', 'automobile', 'bird', 'cat', 'deer', 'dog', 'frog', 'horse', 'ship', 'truck']\n",
        "\n",
        "# remove some training samples because of the computer power\n",
        "X_train = cp.array(X_train)\n",
        "y_train = label_vec_func(cp.array(y_train.reshape(-1)))\n",
        "X_test = cp.array(X_test)\n",
        "y_test = label_vec_func(cp.array(y_test.reshape(-1)))\n",
        "\n",
        "# checking the size of the training and testing data\n",
        "print('Training data shape: ', X_train.shape)\n",
        "print('Training labels shape: ', y_train.shape)\n",
        "print('Test data shape: ', X_test.shape)\n",
        "print('Test labels shape: ', y_test.shape)"
      ],
      "metadata": {
        "colab": {
          "base_uri": "https://localhost:8080/"
        },
        "id": "HC_vSoLWQ14V",
        "outputId": "f5e001be-3d8e-47f0-996a-d76985756f66"
      },
      "execution_count": null,
      "outputs": [
        {
          "output_type": "stream",
          "name": "stdout",
          "text": [
            "Training data shape:  (50000, 32, 32, 3)\n",
            "Training labels shape:  (50000, 10)\n",
            "Test data shape:  (10000, 32, 32, 3)\n",
            "Test labels shape:  (10000, 10)\n"
          ]
        }
      ]
    },
    {
      "cell_type": "code",
      "source": [
        "# show one of the images\n",
        "img = X_train[9, :]\n",
        "plt.imshow(img.get())\n",
        "print(\"This is\", labels[int(cp.argmax(y_train[9]))])"
      ],
      "metadata": {
        "colab": {
          "base_uri": "https://localhost:8080/",
          "height": 447
        },
        "id": "R3uErK7oQ66C",
        "outputId": "98134497-0a43-4a38-d41c-2c0fcaec9446"
      },
      "execution_count": null,
      "outputs": [
        {
          "output_type": "stream",
          "name": "stdout",
          "text": [
            "This is cat\n"
          ]
        },
        {
          "output_type": "display_data",
          "data": {
            "text/plain": [
              "<Figure size 640x480 with 1 Axes>"
            ],
            "image/png": "[encoded data removed]"
          },
          "metadata": {}
        }
      ]
    },
    {
      "cell_type": "code",
      "source": [
        "# turn the training and the test sets into the grayscale\n",
        "X_train_gray = cp.array([cp.average(image, axis=2).reshape(-1) for image in X_train])\n",
        "X_test_gray = cp.array([cp.average(image, axis=2).reshape(-1) for image in X_test])"
      ],
      "metadata": {
        "id": "VZk9mrDIaJhv"
      },
      "execution_count": null,
      "outputs": []
    },
    {
      "cell_type": "code",
      "source": [
        "print(X_train_gray.shape)"
      ],
      "metadata": {
        "colab": {
          "base_uri": "https://localhost:8080/"
        },
        "id": "7lsOwzrsYqbF",
        "outputId": "c61f5220-f079-461b-ff36-ac900ea45e6a"
      },
      "execution_count": null,
      "outputs": [
        {
          "output_type": "stream",
          "name": "stdout",
          "text": [
            "(50000, 1024)\n"
          ]
        }
      ]
    },
    {
      "cell_type": "code",
      "source": [
        "# show one of the grayscale images\n",
        "img = X_train_gray[9, :].reshape(32, 32)\n",
        "plt.imshow(img.get(), cmap='gray')\n",
        "print(\"This is\", labels[int(cp.argmax(y_train[9]))])"
      ],
      "metadata": {
        "colab": {
          "base_uri": "https://localhost:8080/",
          "height": 447
        },
        "id": "3hMjmrC0a8u6",
        "outputId": "90a18c63-a03d-4668-91cd-97d1d5318558"
      },
      "execution_count": null,
      "outputs": [
        {
          "output_type": "stream",
          "name": "stdout",
          "text": [
            "This is cat\n"
          ]
        },
        {
          "output_type": "display_data",
          "data": {
            "text/plain": [
              "<Figure size 640x480 with 1 Axes>"
            ],
            "image/png": "[encoded data removed]"
          },
          "metadata": {}
        }
      ]
    },
    {
      "cell_type": "code",
      "source": [
        "n = 500\n",
        "min_L = 10**10\n",
        "good_W = None\n",
        "\n",
        "# try to get W n times\n",
        "for i in range(n):\n",
        "    W = cp.random.randn(10, 1024)\n",
        "    l = cp.zeros((X_train_gray.shape[0], 10000))\n",
        "\n",
        "    # compute the output\n",
        "    g = funk(X_train_gray, W)\n",
        "    y = softmax(g)\n",
        "\n",
        "    # compute the loss for batches of size 10000 in order not to go out of memory\n",
        "    for batch in range(X_train_gray.shape[0] // 10000):\n",
        "        start = batch * 10000\n",
        "        end = min((batch + 1) * 10000, X_train_gray.shape[0])\n",
        "\n",
        "        l[start:end] = loss(y[:, start:end], y_train[start:end])\n",
        "\n",
        "    L = cp.mean(l)\n",
        "\n",
        "    # remember the best W according to loss\n",
        "    if min_L > L:\n",
        "        print(L)\n",
        "        good_W = W\n",
        "        min_L = L"
      ],
      "metadata": {
        "colab": {
          "base_uri": "https://localhost:8080/"
        },
        "id": "7bAFjHRgU56X",
        "outputId": "035170a9-8e62-47dc-e7f9-dbcb9a7091d2"
      },
      "execution_count": null,
      "outputs": [
        {
          "output_type": "stream",
          "name": "stdout",
          "text": [
            "13.34865750228947\n",
            "13.336521757038172\n",
            "13.280201966585857\n",
            "13.256504903652688\n",
            "13.227328948416975\n",
            "13.208057704004567\n",
            "13.202729960602186\n",
            "13.192403909241639\n"
          ]
        }
      ]
    },
    {
      "cell_type": "code",
      "source": [
        "decision_label = cp.zeros(10000)\n",
        "true_label = cp.zeros(10000)\n",
        "\n",
        "# compute the result for the test images using the best set of parameters\n",
        "y = cp.matmul(good_W, X_test_gray.T)\n",
        "decision_label = cp.argmax(y, axis=0)\n",
        "true_label = cp.argmax(y_test.T, axis=0)\n",
        "\n",
        "# compute accuracy\n",
        "accuracy = cp.sum(decision_label == true_label)/len(decision_label)"
      ],
      "metadata": {
        "id": "rWiLdGx0dFzJ"
      },
      "execution_count": null,
      "outputs": []
    },
    {
      "cell_type": "code",
      "source": [
        "print(accuracy)"
      ],
      "metadata": {
        "colab": {
          "base_uri": "https://localhost:8080/"
        },
        "id": "H51TSoqOfIxF",
        "outputId": "75adf814-134b-4ebd-9a88-04cca8a9273a"
      },
      "execution_count": null,
      "outputs": [
        {
          "output_type": "stream",
          "name": "stdout",
          "text": [
            "0.1149\n"
          ]
        }
      ]
    }
  ]
}